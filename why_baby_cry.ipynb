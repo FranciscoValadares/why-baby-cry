{
  "nbformat": 4,
  "nbformat_minor": 0,
  "metadata": {
    "kernelspec": {
      "display_name": "Python 3",
      "language": "python",
      "name": "python3"
    },
    "language_info": {
      "codemirror_mode": {
        "name": "ipython",
        "version": 3
      },
      "file_extension": ".py",
      "mimetype": "text/x-python",
      "name": "python",
      "nbconvert_exporter": "python",
      "pygments_lexer": "ipython3",
      "version": "3.7.9"
    },
    "colab": {
      "name": "why_baby_cry.ipynb",
      "provenance": [],
      "collapsed_sections": [],
      "include_colab_link": true
    }
  },
  "cells": [
    {
      "cell_type": "markdown",
      "metadata": {
        "id": "view-in-github",
        "colab_type": "text"
      },
      "source": [
        "<a href=\"https://colab.research.google.com/github/FranciscoValadares/why-baby-cry/blob/master/why_baby_cry.ipynb\" target=\"_parent\"><img src=\"https://colab.research.google.com/assets/colab-badge.svg\" alt=\"Open In Colab\"/></a>"
      ]
    },
    {
      "cell_type": "code",
      "metadata": {
        "id": "FLtn-HTCD3bp",
        "outputId": "a2b98fa7-34c8-46a9-c1a3-b5122898c478",
        "colab": {
          "base_uri": "https://localhost:8080/",
          "height": 34
        }
      },
      "source": [
        "from google.colab import drive\n",
        "drive.mount('/content/drive')"
      ],
      "execution_count": null,
      "outputs": [
        {
          "output_type": "stream",
          "text": [
            "Mounted at /content/drive\n"
          ],
          "name": "stdout"
        }
      ]
    },
    {
      "cell_type": "code",
      "metadata": {
        "id": "fCsCO9ZFEJnG"
      },
      "source": [
        "# Copy files *.wav(into datasets/audios) to directory /content of the google colab\n",
        
        "!cp -r 'drive/My Drive/Colab Notebooks/Exemplos/data/datasets/audios' /content/datasets/"
      ],
      "execution_count": null,
      "outputs": []
    },
    {
      "cell_type": "markdown",
      "metadata": {
        "id": "pDMwhRW01aQn"
      },
      "source": [
        "# Time to preparing files for training - Simple training tutorial\n",
        "\n",
        "The objective of this tutorial is to show you the basics of the library and how it can be used to simplify the audio processing pipeline.\n",
        "[Ref](https://forums.fast.ai/t/fastai-v2-audio/53535/85)\n",
        "This page is generated from the corresponding jupyter notebook, that can be found on [this folder](https://github.com/fastaudio/fastaudio/tree/master/docs)\n",
        "\n",
        "\n",
        "To install the library, just run this cell:"
      ]
    },
    {
      "cell_type": "code",
      "metadata": {
        "id": "oX_dJyOzmw1i"
      },
      "source": [
        "!pip install git+https://github.com/fastaudio/fastaudio.git\n",
        "#!pip install git+https://github.com/fastai/fastai.git\n",
        "#!pip install git+https://github.com/fastaudio/fastaudio.git\n",
        "#!pip install git+https://github.com/FranciscoValadares/fastaudio.git"
      ],
      "execution_count": null,
      "outputs": []
    },
    {
      "cell_type": "code",
      "metadata": {
        "id": "X4eDMAAF1aRR"
      },
      "source": [
        "from fastaudio.core.all import *\n",
        "from fastaudio.augment.all import *\n",
        "from fastai.vision.all import *\n",
        "import pandas as pd"
      ],
      "execution_count": null,
      "outputs": []
    },
    {
      "cell_type": "markdown",
      "metadata": {
        "id": "kYU9kFrJc9Gt"
      },
      "source": [
        "####---------- generating datasets"
      ]
    },
    {
      "cell_type": "code",
      "metadata": {
        "id": "cqfHwzyPbGZ7"
      },
      "source": [
        "!for i in {1..100}; do cp -rvfp /content/datasets/audio/hungry_00.wav /content/datasets/audio/\"hungry_$i.wav\" ;done"
      ],
      "execution_count": null,
      "outputs": []
    },
    {
      "cell_type": "code",
      "metadata": {
        "id": "8adwUrbVdG3Q"
      },
      "source": [
        "!for i in {1..100}; do cp -rvfp /content/datasets/audio/sleep_00.wav /content/datasets/audio/\"sleep_$i.wav\" ;done"
      ],
      "execution_count": null,
      "outputs": []
    },
    {
      "cell_type": "code",
      "metadata": {
        "id": "15Woe6_NdNyr"
      },
      "source": [
        "!for i in {1..100}; do cp -rvfp /content/datasets/audio/burp_00.wav /content/datasets/audio/\"burp_$i.wav\" ;done"
      ],
      "execution_count": null,
      "outputs": []
    },
    {
      "cell_type": "code",
      "metadata": {
        "id": "xuYDi9QHdTzQ"
      },
      "source": [
        "!for i in {1..100}; do cp -rvfp /content/datasets/audio/disconfort_00.wav /content/datasets/audio/\"disconfort_$i.wav\" ;done"
      ],
      "execution_count": null,
      "outputs": []
    },
    {
      "cell_type": "code",
      "metadata": {
        "id": "bUak-fZ2daCR"
      },
      "source": [
        "!for i in {1..100}; do cp -rvfp /content/datasets/audio/lowergas_00.wav /content/datasets/audio/\"lowergas_$i.wav\" ;done"
      ],
      "execution_count": null,
      "outputs": []
    },
    {
      "cell_type": "code",
      "metadata": {
        "id": "zr3GLokEdeR1"
      },
      "source": [
        "import os\n",
        "\n",
        "def renomear_arquivos():\n",
        "    path_audio = \"/content/datasets/audio/\"\n",
        "    for count, filename in enumerate(os.listdir(path_audio)):\n",
        "        dst = ''\n",
        "        src = ''\n",
        "        if \"hungry\" in filename:\n",
        "            src = path_audio+filename \n",
        "            dst = path_audio+\"1_\" + str(filename)\n",
        "        elif \"sleep\" in filename:\n",
        "            src = path_audio+filename         \n",
        "            dst = path_audio+\"2_\" + str(filename)\n",
        "        elif \"disconfort\" in filename:\n",
        "            src = path_audio+filename         \n",
        "            dst = path_audio+\"3_\" + str(filename)\n",
        "        elif \"lowergas\" in filename:\n",
        "            src = path_audio+filename         \n",
        "            dst = path_audio+\"4_\" + str(filename)\n",
        "        elif \"burp\" in filename:\n",
        "            src = path_audio+filename         \n",
        "            dst = path_audio+\"5_\" + str(filename)\n",
        "\n",
        "        os.rename(src, dst )"
      ],
      "execution_count": null,
      "outputs": []
    },
    {
      "cell_type": "code",
      "metadata": {
        "id": "dlPnyH69dnMu"
      },
      "source": [
        "renomear_arquivos()"
      ],
      "execution_count": null,
      "outputs": []
    },
    {
      "cell_type": "markdown",
      "metadata": {
        "id": "SwXwcD6Lbmbo"
      },
      "source": [
        "#---------Inicio tutorial 7-Audio"
      ]
    },
    {
      "cell_type": "code",
      "metadata": {
        "id": "NTqwbLGEs2-w"
      },
      "source": [
        "path_audio = \"/content/datasets/audio/\"\n",
        "path_audio_cached = \"/content/datasets/audio_cached\""
      ],
      "execution_count": null,
      "outputs": []
    },
    {
      "cell_type": "code",
      "metadata": {
        "id": "tW6xJnqFwlGs"
      },
      "source": [
        "def label_func(fname):\n",
        "    _label = ''\n",
        "    if fname.name[0] in \"1\":\n",
        "      _label = \"hungry\"\n",
        "    elif fname.name[0] in \"2\":\n",
        "      _label = \"sleep\"\n",
        "    elif fname.name[0] in  \"3\":\n",
        "      _label = \"disconfort\"\n",
        "    elif fname.name[0] in \"4\":\n",
        "      _label = \"lowergas\"\n",
        "    elif fname.name[0] in \"5\":\n",
        "      _label = \"burp\"\n",
        "\n",
        "    return _label\n"
      ],
      "execution_count": null,
      "outputs": []
    },
    {
      "cell_type": "code",
      "metadata": {
        "id": "P4ANOeZ7wiUD"
      },
      "source": [
        "#def get_y(x) : return x.name[0]"
      ],
      "execution_count": null,
      "outputs": []
    },
    {
      "cell_type": "code",
      "metadata": {
        "id": "AkUf8fZHgnzc"
      },
      "source": [
        "#!rm -rf \"/content/datasets/audio_cached\" if executed more the one time (AudioBlock.from_folder)\n",
        "audioBlock =  AudioBlock.from_folder(path_audio,sample_rate=2000)\n",
        "crop_time  =  ResizeSignal(2000)\n",
        "silence    =  RemoveSilence()"
      ],
      "execution_count": null,
      "outputs": []
    },
    {
      "cell_type": "code",
      "metadata": {
        "id": "bFO3F-DstMeV"
      },
      "source": [
        "sg_cfg = AudioConfig.BasicSpectrogram(n_fft=2000, hop_length=155) \n",
        "a2sg   = AudioToSpec.from_cfg(sg_cfg)"
      ],
      "execution_count": null,
      "outputs": []
    },
    {
      "cell_type": "code",
      "metadata": {
        "id": "PIt2sOptxeZ4"
      },
      "source": [
        "aud_digit = DataBlock(blocks=(AudioBlock, CategoryBlock),  \n",
        "                 get_items=get_audio_files, \n",
        "                 splitter=RandomSplitter(),\n",
        "                 item_tfms = [silence,Normalize(),crop_time,a2sg],\n",
        "                 get_y=label_func)"
      ],
      "execution_count": null,
      "outputs": []
    },
    {
      "cell_type": "code",
      "metadata": {
        "id": "a2fEPSqh0jcs"
      },
      "source": [
        "dbunch = aud_digit.dataloaders(path_audio_cached, bs=64)"
      ],
      "execution_count": null,
      "outputs": []
    },
    {
      "cell_type": "code",
      "metadata": {
        "id": "w7oMih0JqjgE"
      },
      "source": [
        "learn = cnn_learner(dbunch, \n",
        "            resnet34, \n",
        "            config=cnn_config(n_in=1), #<- Only audio specific modification here\n",
        "            loss_fn=CrossEntropyLossFlat,\n",
        "            metrics=[accuracy])"
      ],
      "execution_count": null,
      "outputs": []
    },
    {
      "cell_type": "code",
      "metadata": {
        "id": "uP7u96cowMg3",
        "outputId": "43b0642e-155c-47fc-a039-2284564d7a3f",
        "colab": {
          "base_uri": "https://localhost:8080/",
          "height": 301
        }
      },
      "source": [
        "learn.lr_find()\n",
        "#better result learn.lr_find() for me: SuggestedLRs(lr_min=0.025118863582611083, lr_steep=0.0006918309954926372)\n"
      ],
      "execution_count": null,
      "outputs": [
        {
          "output_type": "display_data",
          "data": {
            "text/html": [
              ""
            ],
            "text/plain": [
              "<IPython.core.display.HTML object>"
            ]
          },
          "metadata": {
            "tags": []
          }
        },
        {
          "output_type": "execute_result",
          "data": {
            "text/plain": [
              "SuggestedLRs(lr_min=0.025118863582611083, lr_steep=0.0006918309954926372)"
            ]
          },
          "metadata": {
            "tags": []
          },
          "execution_count": 20
        },
        {
          "output_type": "display_data",
          "data": {
            "image/png": "[encoded data removed]",
            "text/plain": [
              "<Figure size 432x288 with 1 Axes>"
            ]
          },
          "metadata": {
            "tags": [],
            "needs_background": "light"
          }
        }
      ]
    },
    {
      "cell_type": "code",
      "metadata": {
        "id": "Wp_QK3WcnyYd"
      },
      "source": [
        "#learn.fit_one_cycle(, lr_max=0.025118863582611083)"
      ],
      "execution_count": null,
      "outputs": []
    },
    {
      "cell_type": "code",
      "metadata": {
        "id": "AMOsmzq-qust"
      },
      "source": [
        "learn.fine_tune(10,base_lr=0.025118863582611083)"
      ],
      "execution_count": null,
      "outputs": []
    },
    {
      "cell_type": "code",
      "metadata": {
        "id": "UpfdE7sboJoF"
      },
      "source": [
        "learn.export()"
      ],
      "execution_count": null,
      "outputs": []
    },
    {
      "cell_type": "markdown",
      "metadata": {
        "id": "pysRTosdSDDs"
      },
      "source": [
        "### ==========================================================================================="
      ]
    },
    {
      "cell_type": "markdown",
      "metadata": {
        "id": "2H83OqQ0uLGZ"
      },
      "source": [
        "###Test local model"
      ]
    },
    {
      "cell_type": "code",
      "metadata": {
        "id": "knIkqcSlCxrz"
      },
      "source": [
        "pkl_filename = '/content/export.pkl'\n",
        "\n",
        "file = open(pkl_filename,'rb')\n",
        "loaded_model = pickle.load(file)\n",
        "#loaded_model = learner.load_learner(\"/content/export.pkl\")\n",
        "#loaded_model = learn"
      ],
      "execution_count": null,
      "outputs": []
    },
    {
      "cell_type": "code",
      "metadata": {
        "id": "qqMRNWFgsFsL"
      },
      "source": [
        "\n",
        "path_item = PosixPath(\"/content/file_audio_baby_cry.wav\")\n",
        "Ypredict = loaded_model.predict(path_item)\n",
        "Ypredict"
      ],
      "execution_count": null,
      "outputs": []
    },
    {
      "cell_type": "code",
      "metadata": {
        "id": "czV9wXL429_G"
      },
      "source": [
        ""
      ],
      "execution_count": null,
      "outputs": []
    },
    {
      "cell_type": "code",
      "metadata": {
        "id": "u7GueXQh29xZ"
      },
      "source": [
        ""
      ],
      "execution_count": null,
      "outputs": []
    }
  ]
}
